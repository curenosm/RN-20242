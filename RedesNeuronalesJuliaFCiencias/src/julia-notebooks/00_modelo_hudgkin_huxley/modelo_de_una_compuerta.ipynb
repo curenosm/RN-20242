{
 "cells": [
  {
   "cell_type": "code",
   "execution_count": 19,
   "metadata": {},
   "outputs": [
    {
     "data": {
      "text/plain": [
       "LogLevel(1)"
      ]
     },
     "execution_count": 19,
     "metadata": {},
     "output_type": "execute_result"
    }
   ],
   "source": [
    "using GLMakie\n",
    "using LaTeXStrings\n",
    "using Logging\n",
    "using NBInclude\n",
    "\n",
    "# Apagamos los warnings con Julia\n",
    "Logging.disable_logging(Logging.Info)"
   ]
  },
  {
   "cell_type": "markdown",
   "metadata": {},
   "source": [
    "# Modelo de una compuerta\n",
    "\n",
    "## Cambio de estado\n",
    "\n",
    "La probabilidad de que una compuerta esté abierta, como función del tiempo, es una combinación lineal de las probabilidades de que la compuerta se halla cerrado o abierto y las reglas observadas de su comportamiento se describen con una ecuación diferencial.\n",
    "\n",
    "Este comportamiento se ve afectado por el voltaje de polarización de la membrana, pero para esta sección consideraremos al voltaje como un parámetro fijo, de modo que nos podamos enfocar en la ecuación como función del tiempo.  Tomemos como ejemplo la ecuación para la compuerta de potasio (K).\n",
    "\n",
    "El cambio en la probabilidad de que una compuerta esté abierta se puede decir que es proporcional a:\n",
    "\n",
    "\\begin{align*}\n",
    " \\Delta \\text{Compuertas abiertas} = \\text{Puertas que se abren} - \\text{Puertas que se cierran}\n",
    "\\end{align*}\n",
    "\n",
    "Formalizando, es la suma de la probabilidad de que la compuerta esté cerrada por la probabilidad de que se abra, menos la probabilidad de que haya estado abierta y se cierre. Esto se expresa con una ecuación diferencial:\n",
    "\n",
    "\\begin{equation}\n",
    " \\frac{1}{\\gamma(T)} \\frac{dn}{dt} = \\alpha_n(V) (1 - n) - \\beta_n(V)n\n",
    "\\end{equation}\n",
    "\n",
    "donde $\\gamma(T)$ es una constante de proporcionalidad temporal que depende de la temperatura $T$, **a $6.3°$C vale $1$** [Cessac2009]."
   ]
  },
  {
   "cell_type": "markdown",
   "metadata": {},
   "source": [
    "### Estado de equilibrio\n",
    "\n",
    "La ecuación anterior es una ecuación diferencial de primer grado, si bien la ecuación describe la variación de $n$ en el tiempo, existe un punto especial en el cual $n$ ya no cambia.  A éste se le llama un **estado de equilibrio**, matemáticamente corresponde a que su derivada sea cero.\n",
    "\n",
    "\\begin{align}\n",
    "  \\frac{dn}{dt} &= 0\n",
    "\\end{align}\n",
    "\n",
    "Si sustituimos esta condición en la ecuación anterior obtenemos el valor que toma $n$ al alcanzar el equilibrio, al cual llamaremos $n_{\\infty}$; esto como función del voltaje de polarización actual $V$:\n",
    "\\begin{align}\n",
    " \\alpha_n(V) (1 - n_{\\infty}) - \\beta_n(V)n_{\\infty} &= 0 \\\\\n",
    " n_{\\infty}(V) &= \\frac{\\alpha_n(V)}{\\alpha_n(V) + \\beta_n(V)}\n",
    "\\end{align}\n"
   ]
  },
  {
   "cell_type": "markdown",
   "metadata": {},
   "source": [
    "### Constante temporal\n",
    "\n",
    "Se define ahora a la constante temporal:\n",
    "\\begin{align*}\n",
    " \\tau_n(V) &= \\frac{1}{\\alpha_n(V) + \\beta_n(V)}\n",
    "\\end{align*}"
   ]
  },
  {
   "cell_type": "code",
   "execution_count": 22,
   "metadata": {},
   "outputs": [
    {
     "data": {
      "text/plain": [
       "Scatter{Tuple{Vector{Point{2, Float32}}}}"
      ]
     },
     "execution_count": 22,
     "metadata": {},
     "output_type": "execute_result"
    }
   ],
   "source": [
    "@nbinclude(\"funciones_de_transicion.ipynb\")"
   ]
  },
  {
   "cell_type": "code",
   "execution_count": 14,
   "metadata": {},
   "outputs": [
    {
     "data": {
      "text/plain": [
       "tau_inf (generic function with 1 method)"
      ]
     },
     "execution_count": 14,
     "metadata": {},
     "output_type": "execute_result"
    }
   ],
   "source": [
    "include(\"./code/funciones.jl\")"
   ]
  },
  {
   "cell_type": "code",
   "execution_count": 15,
   "metadata": {},
   "outputs": [
    {
     "data": {
      "text/plain": [
       "plot_parameters"
      ]
     },
     "execution_count": 15,
     "metadata": {},
     "output_type": "execute_result"
    }
   ],
   "source": [
    "\"\"\"\n",
    "Grafica alfa y beta como función del voltaje.\n",
    "\"\"\"\n",
    "function plot_parameters()\n",
    "    fig = Figure()\n",
    "    V = -100:0.1:100\n",
    "\n",
    "    alpha = alpha_n.(V)\n",
    "    beta = beta_n.(V)\n",
    "\n",
    "end"
   ]
  },
  {
   "cell_type": "markdown",
   "metadata": {},
   "source": [
    "### Ecuación de transición\n",
    "\n",
    "Es costumbre reescribir la ecuación diferencial original en términos de $n_{\\infty}$ y $\\tau_n$:\n",
    "\n",
    "\\begin{align}\n",
    " \\frac{1}{\\gamma(T)} \\frac{dn}{dt} &= \\frac{n^{\\infty}(V) - n}{\\tau_n(V)}\n",
    "\\end{align}"
   ]
  },
  {
   "cell_type": "markdown",
   "metadata": {},
   "source": [
    "## Solución numérica\n",
    "\n",
    "Para obtener el valor de $n$ al tiempo $t$ dado un voltaje fijo $V$ utlizaremos el método de **Euler** para resolver numéricamente ecuaciones diferenciales de primer orden.  Si bien existe una solución simbólica para este problema, no nos servirá cuando queramos recuperar el hecho de que el voltaje no permanece constante."
   ]
  },
  {
   "cell_type": "markdown",
   "metadata": {},
   "source": [
    "### Método de Euler para la ecuación de la compuerta\n",
    "\n",
    "Aplicando esta fórmula a la ecuación para el canal de potasio:\n",
    "\n",
    "\\begin{align}\n",
    " \\frac{dn}{dt} &= \\frac{n^{\\infty}(V) - n(t)}{\\tau_n(V)}\n",
    "\\end{align}\n",
    "\n",
    "Obtenemos:\n",
    "\n",
    "\\begin{align}\n",
    " n(t + \\Delta t) =& n(t) + \\Delta t \\left[\\frac{n^{\\infty}(V) - n(t)}{\\tau_n(V)} \\right] \\\\\n",
    "                 =& \\left[ 1 - \\frac{\\Delta t}{\\tau_n(V)} \\right] n(t) + \\frac{\\Delta t}{\\tau_n(V)}n^{\\infty}(V)\n",
    "\\end{align}"
   ]
  },
  {
   "cell_type": "markdown",
   "metadata": {},
   "source": [
    "# Implementación"
   ]
  },
  {
   "cell_type": "code",
   "execution_count": 16,
   "metadata": {},
   "outputs": [
    {
     "data": {
      "text/plain": [
       "compuerta_de_potasio"
      ]
     },
     "execution_count": 16,
     "metadata": {},
     "output_type": "execute_result"
    }
   ],
   "source": [
    "\"\"\"\n",
    "Aplicación del método de Euler para aproximar n(t) cuando\n",
    "el voltaje es fijo.\n",
    "\"\"\"\n",
    "function compuerta_de_potasio(n_0, voltaje)\n",
    "    delta = 0.01\n",
    "    max_t = 50.0\n",
    "\n",
    "    t = 0:delta:max_t\n",
    "    n = zeros(length(t))\n",
    "\n",
    "    # Los siguientes valores son constantes sólo si el voltaje\n",
    "    # es constante. Si no lo es, deben ser calculados para cada t\n",
    "    # como función de V(t).\n",
    "\n",
    "    a = alpha_n.(voltaje)\n",
    "    b = beta_n.(voltaje)\n",
    "    t = tau_inf(alfa, beta)\n",
    "    n_i = n_inf(alfa, beta)\n",
    "\n",
    "    n[1] = n_0 # Valor inicial propuesto\n",
    "    for i in 1:length(t)-1\n",
    "        n[i+1] = (1 - d / t) * n[i] + d * n_i / t\n",
    "    end\n",
    "\n",
    "    return Dict(\"t\" => t, \"n\" => n)\n",
    "end"
   ]
  },
  {
   "cell_type": "code",
   "execution_count": 12,
   "metadata": {},
   "outputs": [
    {
     "data": {
      "text/plain": [
       "plot_potasio"
      ]
     },
     "execution_count": 12,
     "metadata": {},
     "output_type": "execute_result"
    }
   ],
   "source": [
    "\"\"\"\n",
    "Grafica n(t) vs t según fue aproximada por Euler.\n",
    "\"\"\"\n",
    "function plot_potasio(resultado::Dict)\n",
    "    tiempo = resultado[\"t\"]\n",
    "    plot(tiempo, resultado[\"n\"], color = :blue)\n",
    "    xlabel!(\"Tiempo (ms)\")\n",
    "    ylabel!(\"n(t) (asimensional))\")\n",
    "    title!(L\"\\textit{Tasa de transición } n(t)\")\n",
    "end"
   ]
  },
  {
   "cell_type": "code",
   "execution_count": 13,
   "metadata": {},
   "outputs": [
    {
     "ename": "LoadError",
     "evalue": "UndefVarError: `alpha_n` not defined",
     "output_type": "error",
     "traceback": [
      "UndefVarError: `alpha_n` not defined",
      "",
      "Stacktrace:",
      " [1] compuerta_de_potasio(n_0::Int64, voltaje::Int64)",
      "   @ Main .\\In[11]:16",
      " [2] top-level scope",
      "   @ In[13]:3"
     ]
    }
   ],
   "source": [
    "# Resultado para el punto inicial (n = 0, V = 20 mV)\n",
    "\n",
    "plot_potasio(compuerta_de_potasio(0, 20))"
   ]
  }
 ],
 "metadata": {
  "kernelspec": {
   "display_name": "Julia 1.10.0",
   "language": "julia",
   "name": "julia-1.10"
  },
  "language_info": {
   "file_extension": ".jl",
   "mimetype": "application/julia",
   "name": "julia",
   "version": "1.10.0"
  }
 },
 "nbformat": 4,
 "nbformat_minor": 2
}
